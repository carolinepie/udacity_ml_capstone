{
 "cells": [
  {
   "cell_type": "code",
   "execution_count": null,
   "id": "d041f4d3",
   "metadata": {},
   "outputs": [],
   "source": [
    "!pip install joblib"
   ]
  },
  {
   "cell_type": "code",
   "execution_count": null,
   "id": "24d2ba61",
   "metadata": {},
   "outputs": [],
   "source": [
    "import pandas as pd\n",
    "import boto3\n",
    "import sagemaker\n",
    "from sklearn.metrics import mean_squared_error\n",
    "import matplotlib.pyplot as plt"
   ]
  },
  {
   "cell_type": "code",
   "execution_count": null,
   "id": "739a0f6e",
   "metadata": {},
   "outputs": [],
   "source": [
    "# session and role\n",
    "sagemaker_session = sagemaker.Session()\n",
    "role = sagemaker.get_execution_role()\n",
    "\n",
    "# create an S3 bucket\n",
    "bucket = sagemaker_session.default_bucket()\n",
    "print(bucket)"
   ]
  },
  {
   "cell_type": "code",
   "execution_count": null,
   "id": "e9e7b1ef",
   "metadata": {},
   "outputs": [],
   "source": [
    "# load data\n",
    "\n",
    "data_dir = 'capstone_data'\n",
    "\n",
    "prefix = 'capstone_project'\n",
    "\n",
    "# already ran\n",
    "# upload all data to S3\n",
    "#input_data = sagemaker_session.upload_data(path=data_dir, bucket=bucket, key_prefix=prefix)"
   ]
  },
  {
   "cell_type": "code",
   "execution_count": null,
   "id": "6b027211",
   "metadata": {},
   "outputs": [],
   "source": [
    "# confirm that data is in S3 bucket\n",
    "empty_check = []\n",
    "for obj in boto3.resource('s3').Bucket(bucket).objects.all():\n",
    "    empty_check.append(obj.key)\n",
    "    print(obj.key)\n",
    "\n",
    "assert len(empty_check) !=0, 'S3 bucket is empty.'\n",
    "print('Test passed!')"
   ]
  },
  {
   "cell_type": "code",
   "execution_count": null,
   "id": "b6f7bb99",
   "metadata": {},
   "outputs": [],
   "source": [
    "# create model\n",
    "from sagemaker.sklearn.estimator import SKLearn\n",
    "model = SKLearn(entry_point='train.py',\n",
    "                source_dir='source_sklearn',\n",
    "                role=role,\n",
    "                train_instance_count=1, \n",
    "                train_instance_type='ml.c4.xlarge',\n",
    "                sagemaker_session=sagemaker_session,\n",
    "                framework_version='0.20.0',\n",
    "                py_version='py3'\n",
    "               )"
   ]
  },
  {
   "cell_type": "code",
   "execution_count": null,
   "id": "30603c44",
   "metadata": {},
   "outputs": [],
   "source": [
    "%%time\n",
    "\n",
    "# Train your estimator on S3 training data\n",
    "model.fit({'train': f's3://{bucket}/{prefix}'})"
   ]
  },
  {
   "cell_type": "code",
   "execution_count": null,
   "id": "9a672191",
   "metadata": {},
   "outputs": [],
   "source": [
    "%%time\n",
    "\n",
    "# uncomment, if needed\n",
    "# from sagemaker.pytorch import PyTorchModel\n",
    "\n",
    "\n",
    "# deploy your model to create a predictor\n",
    "predictor = model.deploy(initial_instance_count=1, instance_type='ml.t2.medium')"
   ]
  },
  {
   "cell_type": "code",
   "execution_count": null,
   "id": "4feff8ef",
   "metadata": {},
   "outputs": [],
   "source": [
    "# test model\n",
    "\n",
    "import os\n",
    "\n",
    "# read in test data, assuming it is stored locally\n",
    "test_lstm = pd.read_csv(os.path.join(data_dir, \"test_lstm.csv\"), header=None, names=None)\n",
    "\n",
    "# labels are in the first column\n",
    "test_y = test_lstm.iloc[:,0]\n",
    "test_x = test_lstm.iloc[:,1:]"
   ]
  },
  {
   "cell_type": "code",
   "execution_count": null,
   "id": "463d9087",
   "metadata": {},
   "outputs": [],
   "source": [
    "test_y_preds = predictor.predict(test_x)"
   ]
  },
  {
   "cell_type": "code",
   "execution_count": null,
   "id": "4eed99f8",
   "metadata": {},
   "outputs": [],
   "source": [
    "rmse = mean_squared_error(test_lstm[0], test_y_preds, squared=False)\n",
    "print(rmse)"
   ]
  },
  {
   "cell_type": "code",
   "execution_count": null,
   "id": "4d17d98f",
   "metadata": {},
   "outputs": [],
   "source": [
    "test_lstm[0].plot()\n",
    "test_y_preds.plot()"
   ]
  }
 ],
 "metadata": {
  "kernelspec": {
   "display_name": "Python 3",
   "language": "python",
   "name": "python3"
  },
  "language_info": {
   "codemirror_mode": {
    "name": "ipython",
    "version": 3
   },
   "file_extension": ".py",
   "mimetype": "text/x-python",
   "name": "python",
   "nbconvert_exporter": "python",
   "pygments_lexer": "ipython3",
   "version": "3.8.10"
  }
 },
 "nbformat": 4,
 "nbformat_minor": 5
}
