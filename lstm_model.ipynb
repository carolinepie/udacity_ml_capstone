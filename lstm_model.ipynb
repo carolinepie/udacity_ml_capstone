{
 "cells": [
  {
   "cell_type": "code",
   "execution_count": 1,
   "id": "90dfcfd4",
   "metadata": {},
   "outputs": [],
   "source": [
    "import pandas as pd\n",
    "import boto3\n",
    "import sagemaker\n",
    "from sklearn.metrics import mean_squared_error\n",
    "import matplotlib.pyplot as plt"
   ]
  },
  {
   "cell_type": "code",
   "execution_count": 2,
   "id": "451b8d5a",
   "metadata": {},
   "outputs": [
    {
     "name": "stdout",
     "output_type": "stream",
     "text": [
      "sagemaker-us-east-1-077458658795\n"
     ]
    }
   ],
   "source": [
    "# session and role\n",
    "sagemaker_session = sagemaker.Session()\n",
    "role = sagemaker.get_execution_role()\n",
    "\n",
    "# create an S3 bucket\n",
    "bucket = sagemaker_session.default_bucket()\n",
    "print(bucket)"
   ]
  },
  {
   "cell_type": "code",
   "execution_count": 3,
   "id": "4228d3f2",
   "metadata": {},
   "outputs": [],
   "source": [
    "# load data\n",
    "\n",
    "data_dir = 'capstone_data'\n",
    "\n",
    "prefix = 'capstone_project'\n",
    "\n",
    "# already ran\n",
    "# upload all data to S3\n",
    "input_data = sagemaker_session.upload_data(path=data_dir, bucket=bucket, key_prefix=prefix)"
   ]
  },
  {
   "cell_type": "code",
   "execution_count": 4,
   "id": "f0f2ab34",
   "metadata": {},
   "outputs": [
    {
     "name": "stderr",
     "output_type": "stream",
     "text": [
      "train_instance_count has been renamed in sagemaker>=2.\n",
      "See: https://sagemaker.readthedocs.io/en/stable/v2.html for details.\n",
      "train_instance_type has been renamed in sagemaker>=2.\n",
      "See: https://sagemaker.readthedocs.io/en/stable/v2.html for details.\n"
     ]
    }
   ],
   "source": [
    "# create model\n",
    "input_size=16\n",
    "batch_size = 100\n",
    "from sagemaker.pytorch import PyTorch\n",
    "model = PyTorch(entry_point='train.py',\n",
    "                source_dir='lstm',\n",
    "                role=role,\n",
    "                train_instance_count=1, \n",
    "                train_instance_type='ml.c4.xlarge',\n",
    "                sagemaker_session=sagemaker_session,\n",
    "                framework_version='1.8.1',\n",
    "                py_version='py3',\n",
    "                hyperparameters={\n",
    "                                 'sequence-size': 16,\n",
    "                                 'input-size': input_size,\n",
    "                                 'hidden-dim': 4,\n",
    "                                 'batch-size': batch_size,\n",
    "                                 'epochs':30 \n",
    "                                }\n",
    "               )"
   ]
  },
  {
   "cell_type": "code",
   "execution_count": 5,
   "id": "90454d96",
   "metadata": {},
   "outputs": [
    {
     "name": "stdout",
     "output_type": "stream",
     "text": [
      "2021-07-23 22:02:02 Starting - Starting the training job...\n",
      "2021-07-23 22:02:29 Starting - Launching requested ML instancesProfilerReport-1627077722: InProgress\n",
      "...\n",
      "2021-07-23 22:03:00 Starting - Preparing the instances for training............\n",
      "2021-07-23 22:04:59 Downloading - Downloading input data\n",
      "2021-07-23 22:04:59 Training - Downloading the training image...\n",
      "2021-07-23 22:05:30 Training - Training image download completed. Training in progress.\u001b[34mbash: cannot set terminal process group (-1): Inappropriate ioctl for device\u001b[0m\n",
      "\u001b[34mbash: no job control in this shell\u001b[0m\n",
      "\u001b[34m2021-07-23 22:05:27,395 sagemaker-training-toolkit INFO     Imported framework sagemaker_pytorch_container.training\u001b[0m\n",
      "\u001b[34m2021-07-23 22:05:27,397 sagemaker-training-toolkit INFO     No GPUs detected (normal if no gpus installed)\u001b[0m\n",
      "\u001b[34m2021-07-23 22:05:27,407 sagemaker_pytorch_container.training INFO     Block until all host DNS lookups succeed.\u001b[0m\n",
      "\u001b[34m2021-07-23 22:05:30,483 sagemaker_pytorch_container.training INFO     Invoking user training script.\u001b[0m\n",
      "\u001b[34m2021-07-23 22:05:31,072 sagemaker-training-toolkit INFO     No GPUs detected (normal if no gpus installed)\u001b[0m\n",
      "\u001b[34m2021-07-23 22:05:31,084 sagemaker-training-toolkit INFO     No GPUs detected (normal if no gpus installed)\u001b[0m\n",
      "\u001b[34m2021-07-23 22:05:31,095 sagemaker-training-toolkit INFO     No GPUs detected (normal if no gpus installed)\u001b[0m\n",
      "\u001b[34m2021-07-23 22:05:31,105 sagemaker-training-toolkit INFO     Invoking user script\n",
      "\u001b[0m\n",
      "\u001b[34mTraining Env:\n",
      "\u001b[0m\n",
      "\u001b[34m{\n",
      "    \"additional_framework_parameters\": {},\n",
      "    \"channel_input_dirs\": {\n",
      "        \"train\": \"/opt/ml/input/data/train\"\n",
      "    },\n",
      "    \"current_host\": \"algo-1\",\n",
      "    \"framework_module\": \"sagemaker_pytorch_container.training:main\",\n",
      "    \"hosts\": [\n",
      "        \"algo-1\"\n",
      "    ],\n",
      "    \"hyperparameters\": {\n",
      "        \"batch-size\": 100,\n",
      "        \"input-size\": 16,\n",
      "        \"sequence-size\": 16,\n",
      "        \"hidden-dim\": 4,\n",
      "        \"epochs\": 30\n",
      "    },\n",
      "    \"input_config_dir\": \"/opt/ml/input/config\",\n",
      "    \"input_data_config\": {\n",
      "        \"train\": {\n",
      "            \"TrainingInputMode\": \"File\",\n",
      "            \"S3DistributionType\": \"FullyReplicated\",\n",
      "            \"RecordWrapperType\": \"None\"\n",
      "        }\n",
      "    },\n",
      "    \"input_dir\": \"/opt/ml/input\",\n",
      "    \"is_master\": true,\n",
      "    \"job_name\": \"pytorch-training-2021-07-23-22-02-02-040\",\n",
      "    \"log_level\": 20,\n",
      "    \"master_hostname\": \"algo-1\",\n",
      "    \"model_dir\": \"/opt/ml/model\",\n",
      "    \"module_dir\": \"s3://sagemaker-us-east-1-077458658795/pytorch-training-2021-07-23-22-02-02-040/source/sourcedir.tar.gz\",\n",
      "    \"module_name\": \"train\",\n",
      "    \"network_interface_name\": \"eth0\",\n",
      "    \"num_cpus\": 4,\n",
      "    \"num_gpus\": 0,\n",
      "    \"output_data_dir\": \"/opt/ml/output/data\",\n",
      "    \"output_dir\": \"/opt/ml/output\",\n",
      "    \"output_intermediate_dir\": \"/opt/ml/output/intermediate\",\n",
      "    \"resource_config\": {\n",
      "        \"current_host\": \"algo-1\",\n",
      "        \"hosts\": [\n",
      "            \"algo-1\"\n",
      "        ],\n",
      "        \"network_interface_name\": \"eth0\"\n",
      "    },\n",
      "    \"user_entry_point\": \"train.py\"\u001b[0m\n",
      "\u001b[34m}\n",
      "\u001b[0m\n",
      "\u001b[34mEnvironment variables:\n",
      "\u001b[0m\n",
      "\u001b[34mSM_HOSTS=[\"algo-1\"]\u001b[0m\n",
      "\u001b[34mSM_NETWORK_INTERFACE_NAME=eth0\u001b[0m\n",
      "\u001b[34mSM_HPS={\"batch-size\":100,\"epochs\":30,\"hidden-dim\":4,\"input-size\":16,\"sequence-size\":16}\u001b[0m\n",
      "\u001b[34mSM_USER_ENTRY_POINT=train.py\u001b[0m\n",
      "\u001b[34mSM_FRAMEWORK_PARAMS={}\u001b[0m\n",
      "\u001b[34mSM_RESOURCE_CONFIG={\"current_host\":\"algo-1\",\"hosts\":[\"algo-1\"],\"network_interface_name\":\"eth0\"}\u001b[0m\n",
      "\u001b[34mSM_INPUT_DATA_CONFIG={\"train\":{\"RecordWrapperType\":\"None\",\"S3DistributionType\":\"FullyReplicated\",\"TrainingInputMode\":\"File\"}}\u001b[0m\n",
      "\u001b[34mSM_OUTPUT_DATA_DIR=/opt/ml/output/data\u001b[0m\n",
      "\u001b[34mSM_CHANNELS=[\"train\"]\u001b[0m\n",
      "\u001b[34mSM_CURRENT_HOST=algo-1\u001b[0m\n",
      "\u001b[34mSM_MODULE_NAME=train\u001b[0m\n",
      "\u001b[34mSM_LOG_LEVEL=20\u001b[0m\n",
      "\u001b[34mSM_FRAMEWORK_MODULE=sagemaker_pytorch_container.training:main\u001b[0m\n",
      "\u001b[34mSM_INPUT_DIR=/opt/ml/input\u001b[0m\n",
      "\u001b[34mSM_INPUT_CONFIG_DIR=/opt/ml/input/config\u001b[0m\n",
      "\u001b[34mSM_OUTPUT_DIR=/opt/ml/output\u001b[0m\n",
      "\u001b[34mSM_NUM_CPUS=4\u001b[0m\n",
      "\u001b[34mSM_NUM_GPUS=0\u001b[0m\n",
      "\u001b[34mSM_MODEL_DIR=/opt/ml/model\u001b[0m\n",
      "\u001b[34mSM_MODULE_DIR=s3://sagemaker-us-east-1-077458658795/pytorch-training-2021-07-23-22-02-02-040/source/sourcedir.tar.gz\u001b[0m\n",
      "\u001b[34mSM_TRAINING_ENV={\"additional_framework_parameters\":{},\"channel_input_dirs\":{\"train\":\"/opt/ml/input/data/train\"},\"current_host\":\"algo-1\",\"framework_module\":\"sagemaker_pytorch_container.training:main\",\"hosts\":[\"algo-1\"],\"hyperparameters\":{\"batch-size\":100,\"epochs\":30,\"hidden-dim\":4,\"input-size\":16,\"sequence-size\":16},\"input_config_dir\":\"/opt/ml/input/config\",\"input_data_config\":{\"train\":{\"RecordWrapperType\":\"None\",\"S3DistributionType\":\"FullyReplicated\",\"TrainingInputMode\":\"File\"}},\"input_dir\":\"/opt/ml/input\",\"is_master\":true,\"job_name\":\"pytorch-training-2021-07-23-22-02-02-040\",\"log_level\":20,\"master_hostname\":\"algo-1\",\"model_dir\":\"/opt/ml/model\",\"module_dir\":\"s3://sagemaker-us-east-1-077458658795/pytorch-training-2021-07-23-22-02-02-040/source/sourcedir.tar.gz\",\"module_name\":\"train\",\"network_interface_name\":\"eth0\",\"num_cpus\":4,\"num_gpus\":0,\"output_data_dir\":\"/opt/ml/output/data\",\"output_dir\":\"/opt/ml/output\",\"output_intermediate_dir\":\"/opt/ml/output/intermediate\",\"resource_config\":{\"current_host\":\"algo-1\",\"hosts\":[\"algo-1\"],\"network_interface_name\":\"eth0\"},\"user_entry_point\":\"train.py\"}\u001b[0m\n",
      "\u001b[34mSM_USER_ARGS=[\"--batch-size\",\"100\",\"--epochs\",\"30\",\"--hidden-dim\",\"4\",\"--input-size\",\"16\",\"--sequence-size\",\"16\"]\u001b[0m\n",
      "\u001b[34mSM_OUTPUT_INTERMEDIATE_DIR=/opt/ml/output/intermediate\u001b[0m\n",
      "\u001b[34mSM_CHANNEL_TRAIN=/opt/ml/input/data/train\u001b[0m\n",
      "\u001b[34mSM_HP_BATCH-SIZE=100\u001b[0m\n",
      "\u001b[34mSM_HP_INPUT-SIZE=16\u001b[0m\n",
      "\u001b[34mSM_HP_SEQUENCE-SIZE=16\u001b[0m\n",
      "\u001b[34mSM_HP_HIDDEN-DIM=4\u001b[0m\n",
      "\u001b[34mSM_HP_EPOCHS=30\u001b[0m\n",
      "\u001b[34mPYTHONPATH=/opt/ml/code:/opt/conda/bin:/opt/conda/lib/python36.zip:/opt/conda/lib/python3.6:/opt/conda/lib/python3.6/lib-dynload:/opt/conda/lib/python3.6/site-packages\n",
      "\u001b[0m\n",
      "\u001b[34mInvoking script with the following command:\n",
      "\u001b[0m\n",
      "\u001b[34m/opt/conda/bin/python3.6 train.py --batch-size 100 --epochs 30 --hidden-dim 4 --input-size 16 --sequence-size 16\n",
      "\n",
      "\u001b[0m\n",
      "\u001b[34mUsing device cpu.\u001b[0m\n",
      "\u001b[34mGet train data loader.\u001b[0m\n",
      "\u001b[34mbatch_size: 100\u001b[0m\n",
      "\u001b[34mself.x[0]\u001b[0m\n",
      "\u001b[34mtensor([0.1406, 0.1465, 0.1436, 0.1383, 0.1318, 0.1247, 0.1243, 0.1284, 0.1256,\n",
      "        0.1319, 0.1323, 0.1349, 0.1358, 0.1409, 0.1398, 0.1408])\u001b[0m\n",
      "\u001b[34mself.y[0]\u001b[0m\n",
      "\u001b[34mtensor(0.1344)\u001b[0m\n",
      "\u001b[34mepochs: 30\u001b[0m\n",
      "\u001b[34m[2021-07-23 22:05:34.318 algo-1:26 INFO utils.py:27] RULE_JOB_STOP_SIGNAL_FILENAME: None\u001b[0m\n",
      "\u001b[34m[2021-07-23 22:05:34.794 algo-1:26 INFO profiler_config_parser.py:102] User has disabled profiler.\u001b[0m\n",
      "\u001b[34m[2021-07-23 22:05:34.794 algo-1:26 INFO json_config.py:91] Creating hook from json_config at /opt/ml/input/config/debughookconfig.json.\u001b[0m\n",
      "\u001b[34m[2021-07-23 22:05:34.794 algo-1:26 INFO hook.py:201] tensorboard_dir has not been set for the hook. SMDebug will not be exporting tensorboard summaries.\u001b[0m\n",
      "\u001b[34m[2021-07-23 22:05:34.795 algo-1:26 INFO hook.py:255] Saving to /opt/ml/output/tensors\u001b[0m\n",
      "\u001b[34m[2021-07-23 22:05:34.795 algo-1:26 INFO state_store.py:77] The checkpoint config file /opt/ml/input/config/checkpointconfig.json does not exist.\u001b[0m\n",
      "\u001b[34m[2021-07-23 22:05:34.808 algo-1:26 INFO hook.py:591] name:lstm.weight_ih_l0 count_params:256\u001b[0m\n",
      "\u001b[34m[2021-07-23 22:05:34.808 algo-1:26 INFO hook.py:591] name:lstm.weight_hh_l0 count_params:64\u001b[0m\n",
      "\u001b[34m[2021-07-23 22:05:34.808 algo-1:26 INFO hook.py:591] name:lstm.bias_ih_l0 count_params:16\u001b[0m\n",
      "\u001b[34m[2021-07-23 22:05:34.808 algo-1:26 INFO hook.py:591] name:lstm.bias_hh_l0 count_params:16\u001b[0m\n",
      "\u001b[34m[2021-07-23 22:05:34.809 algo-1:26 INFO hook.py:591] name:lstm.weight_ih_l1 count_params:64\u001b[0m\n",
      "\u001b[34m[2021-07-23 22:05:34.809 algo-1:26 INFO hook.py:591] name:lstm.weight_hh_l1 count_params:64\u001b[0m\n",
      "\u001b[34m[2021-07-23 22:05:34.809 algo-1:26 INFO hook.py:591] name:lstm.bias_ih_l1 count_params:16\u001b[0m\n",
      "\u001b[34m[2021-07-23 22:05:34.809 algo-1:26 INFO hook.py:591] name:lstm.bias_hh_l1 count_params:16\u001b[0m\n",
      "\u001b[34m[2021-07-23 22:05:34.809 algo-1:26 INFO hook.py:591] name:lstm.weight_ih_l2 count_params:64\u001b[0m\n",
      "\u001b[34m[2021-07-23 22:05:34.809 algo-1:26 INFO hook.py:591] name:lstm.weight_hh_l2 count_params:64\u001b[0m\n",
      "\u001b[34m[2021-07-23 22:05:34.809 algo-1:26 INFO hook.py:591] name:lstm.bias_ih_l2 count_params:16\u001b[0m\n",
      "\u001b[34m[2021-07-23 22:05:34.809 algo-1:26 INFO hook.py:591] name:lstm.bias_hh_l2 count_params:16\u001b[0m\n",
      "\u001b[34m[2021-07-23 22:05:34.809 algo-1:26 INFO hook.py:591] name:lstm.weight_ih_l3 count_params:64\u001b[0m\n",
      "\u001b[34m[2021-07-23 22:05:34.809 algo-1:26 INFO hook.py:591] name:lstm.weight_hh_l3 count_params:64\u001b[0m\n",
      "\u001b[34m[2021-07-23 22:05:34.809 algo-1:26 INFO hook.py:591] name:lstm.bias_ih_l3 count_params:16\u001b[0m\n",
      "\u001b[34m[2021-07-23 22:05:34.809 algo-1:26 INFO hook.py:591] name:lstm.bias_hh_l3 count_params:16\u001b[0m\n",
      "\u001b[34m[2021-07-23 22:05:34.809 algo-1:26 INFO hook.py:591] name:lstm.weight_ih_l4 count_params:64\u001b[0m\n",
      "\u001b[34m[2021-07-23 22:05:34.809 algo-1:26 INFO hook.py:591] name:lstm.weight_hh_l4 count_params:64\u001b[0m\n",
      "\u001b[34m[2021-07-23 22:05:34.810 algo-1:26 INFO hook.py:591] name:lstm.bias_ih_l4 count_params:16\u001b[0m\n",
      "\u001b[34m[2021-07-23 22:05:34.810 algo-1:26 INFO hook.py:591] name:lstm.bias_hh_l4 count_params:16\u001b[0m\n",
      "\u001b[34m[2021-07-23 22:05:34.810 algo-1:26 INFO hook.py:591] name:dense.weight count_params:4\u001b[0m\n",
      "\u001b[34m[2021-07-23 22:05:34.810 algo-1:26 INFO hook.py:591] name:dense.bias count_params:1\u001b[0m\n",
      "\u001b[34m[2021-07-23 22:05:34.810 algo-1:26 INFO hook.py:593] Total Trainable Params: 997\u001b[0m\n",
      "\u001b[34m[2021-07-23 22:05:34.810 algo-1:26 INFO hook.py:425] Monitoring the collections: losses\u001b[0m\n",
      "\u001b[34m[2021-07-23 22:05:34.813 algo-1:26 INFO hook.py:488] Hook is writing from the hook with pid: 26\n",
      "\u001b[0m\n",
      "\u001b[34mEpoch: 1, Loss: 0.01393330751505511\u001b[0m\n",
      "\u001b[34mEpoch: 2, Loss: 0.014979797726758106\u001b[0m\n",
      "\u001b[34mEpoch: 3, Loss: 0.012862214705709255\u001b[0m\n",
      "\u001b[34mEpoch: 4, Loss: 0.0134304104439886\u001b[0m\n"
     ]
    },
    {
     "name": "stdout",
     "output_type": "stream",
     "text": [
      "\u001b[34mEpoch: 5, Loss: 0.013516449396830109\u001b[0m\n",
      "\u001b[34mEpoch: 6, Loss: 0.013562843331425083\u001b[0m\n",
      "\u001b[34mEpoch: 7, Loss: 0.013597584513869757\u001b[0m\n",
      "\u001b[34mEpoch: 8, Loss: 0.013617150620451535\u001b[0m\n",
      "\u001b[34mEpoch: 9, Loss: 0.013630775218850678\u001b[0m\n",
      "\u001b[34mEpoch: 10, Loss: 0.01364032098155638\u001b[0m\n",
      "\u001b[34mEpoch: 11, Loss: 0.013647298557881379\u001b[0m\n",
      "\u001b[34mEpoch: 12, Loss: 0.013652551629947442\u001b[0m\n",
      "\u001b[34mEpoch: 13, Loss: 0.013656604818110778\u001b[0m\n",
      "\u001b[34mEpoch: 14, Loss: 0.0136598009972438\u001b[0m\n",
      "\u001b[34mEpoch: 15, Loss: 0.013662374645443351\u001b[0m\n",
      "\u001b[34mEpoch: 16, Loss: 0.013664470782686927\u001b[0m\n",
      "\u001b[34mEpoch: 17, Loss: 0.013666207305945907\u001b[0m\n",
      "\u001b[34mEpoch: 18, Loss: 0.01366766247189265\u001b[0m\n",
      "\n",
      "2021-07-23 22:05:57 Uploading - Uploading generated training model\u001b[34mEpoch: 19, Loss: 0.013668899639566062\u001b[0m\n",
      "\u001b[34mEpoch: 20, Loss: 0.01366995632997714\u001b[0m\n",
      "\u001b[34mEpoch: 21, Loss: 0.013670867089372636\u001b[0m\n",
      "\u001b[34mEpoch: 22, Loss: 0.013671660508297271\u001b[0m\n",
      "\u001b[34mEpoch: 23, Loss: 0.0136723562291908\u001b[0m\n",
      "\u001b[34mEpoch: 24, Loss: 0.013672975910594687\u001b[0m\n",
      "\u001b[34mEpoch: 25, Loss: 0.013673522654271714\u001b[0m\n",
      "\u001b[34mEpoch: 26, Loss: 0.013674017306501892\u001b[0m\n",
      "\u001b[34mEpoch: 27, Loss: 0.013674455770700606\u001b[0m\n",
      "\u001b[34mEpoch: 28, Loss: 0.013674854339721302\u001b[0m\n",
      "\u001b[34mEpoch: 29, Loss: 0.013675211383749476\u001b[0m\n",
      "\u001b[34mEpoch: 30, Loss: 0.013675540415781805\n",
      "\u001b[0m\n",
      "\u001b[34m2021-07-23 22:05:57,168 sagemaker-training-toolkit INFO     Reporting training SUCCESS\u001b[0m\n",
      "\n",
      "2021-07-23 22:06:30 Completed - Training job completed\n",
      "ProfilerReport-1627077722: NoIssuesFound\n",
      "Training seconds: 84\n",
      "Billable seconds: 84\n",
      "CPU times: user 658 ms, sys: 26.5 ms, total: 684 ms\n",
      "Wall time: 4min 44s\n"
     ]
    }
   ],
   "source": [
    "%%time\n",
    "\n",
    "# Train your estimator on S3 training data\n",
    "model.fit({'train': f's3://{bucket}/{prefix}'})"
   ]
  },
  {
   "cell_type": "code",
   "execution_count": 6,
   "id": "b81fc12c",
   "metadata": {},
   "outputs": [
    {
     "name": "stdout",
     "output_type": "stream",
     "text": [
      "s3://sagemaker-us-east-1-077458658795/pytorch-training-2021-07-23-22-02-02-040/output/model.tar.gz\n"
     ]
    }
   ],
   "source": [
    "print(model.model_data)"
   ]
  },
  {
   "cell_type": "code",
   "execution_count": 7,
   "id": "dfb667c1",
   "metadata": {},
   "outputs": [
    {
     "name": "stdout",
     "output_type": "stream",
     "text": [
      "CPU times: user 3.78 ms, sys: 492 µs, total: 4.27 ms\n",
      "Wall time: 26.8 ms\n"
     ]
    }
   ],
   "source": [
    "%%time\n",
    "\n",
    "# uncomment, if needed\n",
    "#model_data, role, entry_point, framework_version=None, py_version=None\n",
    "from sagemaker.pytorch import PyTorchModel\n",
    "deploy_info = PyTorchModel(entry_point='predict.py',\n",
    "                           source_dir='lstm',\n",
    "                model_data=model.model_data,\n",
    "                role=role,\n",
    "                framework_version='1.8.1',\n",
    "                py_version='py3'\n",
    "               )\n"
   ]
  },
  {
   "cell_type": "code",
   "execution_count": 16,
   "id": "a4681f38",
   "metadata": {},
   "outputs": [
    {
     "name": "stdout",
     "output_type": "stream",
     "text": [
      "y\n",
      "0      0.0977\n",
      "1      0.0915\n",
      "2      0.0922\n",
      "3      0.0922\n",
      "4      0.0952\n",
      "        ...  \n",
      "498    0.1267\n",
      "499    0.1265\n",
      "500    0.1343\n",
      "501    0.1482\n",
      "502    0.1378\n",
      "Name: 0, Length: 503, dtype: float64\n",
      "(503, 16)\n"
     ]
    }
   ],
   "source": [
    "# test model\n",
    "import numpy as np\n",
    "import os\n",
    "# read in test data, assuming it is stored locally\n",
    "test_lstm = pd.read_csv(os.path.join(data_dir, \"test_lstm.csv\"), header=None, names=None)\n",
    "# labels are in the first column\n",
    "test_y = test_lstm.iloc[:,0]\n",
    "test_x = np.reshape(test_lstm.drop([0], axis=1).iloc[:,:input_size].values, (-1, input_size))\n",
    "print('y')\n",
    "print(test_y)\n",
    "print(test_x.shape)"
   ]
  },
  {
   "cell_type": "code",
   "execution_count": 9,
   "id": "3a5d5070",
   "metadata": {},
   "outputs": [
    {
     "name": "stdout",
     "output_type": "stream",
     "text": [
      "---------------------!"
     ]
    }
   ],
   "source": [
    "# deploy your model to create a predictor\n",
    "predictor = deploy_info.deploy(initial_instance_count=1, instance_type='ml.t2.medium')"
   ]
  },
  {
   "cell_type": "code",
   "execution_count": 10,
   "id": "f5cdd8b6",
   "metadata": {},
   "outputs": [
    {
     "name": "stdout",
     "output_type": "stream",
     "text": [
      "Collecting torch\n",
      "  Downloading torch-1.9.0-cp36-cp36m-manylinux1_x86_64.whl (831.4 MB)\n",
      "\u001b[K     |████████████████████████████████| 831.4 MB 3.3 kB/s  eta 0:00:01    |█▋                              | 42.4 MB 17.9 MB/s eta 0:00:45     |██████████████████████          | 569.0 MB 54.2 MB/s eta 0:00:05\n",
      "\u001b[?25hRequirement already satisfied: dataclasses in /home/ec2-user/anaconda3/envs/python3/lib/python3.6/site-packages (from torch) (0.8)\n",
      "Requirement already satisfied: typing-extensions in /home/ec2-user/anaconda3/envs/python3/lib/python3.6/site-packages (from torch) (3.7.4.3)\n",
      "Installing collected packages: torch\n",
      "Successfully installed torch-1.9.0\n",
      "\u001b[33mWARNING: You are using pip version 21.1.2; however, version 21.1.3 is available.\n",
      "You should consider upgrading via the '/home/ec2-user/anaconda3/envs/python3/bin/python -m pip install --upgrade pip' command.\u001b[0m\n"
     ]
    }
   ],
   "source": [
    "!pip install torch"
   ]
  },
  {
   "cell_type": "code",
   "execution_count": 11,
   "id": "2d6d53c3",
   "metadata": {
    "scrolled": true
   },
   "outputs": [
    {
     "name": "stdout",
     "output_type": "stream",
     "text": [
      "[[[0.1104 0.1018 0.1047 0.1025 0.099  0.0962 0.0972 0.1003 0.0953 0.0942\n",
      "   0.1049 0.1018 0.0992 0.0934 0.0958 0.1016]\n",
      "  [0.0977 0.1104 0.1018 0.1047 0.1025 0.099  0.0962 0.0972 0.1003 0.0953\n",
      "   0.0942 0.1049 0.1018 0.0992 0.0934 0.0958]\n",
      "  [0.0915 0.0977 0.1104 0.1018 0.1047 0.1025 0.099  0.0962 0.0972 0.1003\n",
      "   0.0953 0.0942 0.1049 0.1018 0.0992 0.0934]\n",
      "  [0.0922 0.0915 0.0977 0.1104 0.1018 0.1047 0.1025 0.099  0.0962 0.0972\n",
      "   0.1003 0.0953 0.0942 0.1049 0.1018 0.0992]\n",
      "  [0.0922 0.0922 0.0915 0.0977 0.1104 0.1018 0.1047 0.1025 0.099  0.0962\n",
      "   0.0972 0.1003 0.0953 0.0942 0.1049 0.1018]\n",
      "  [0.0952 0.0922 0.0922 0.0915 0.0977 0.1104 0.1018 0.1047 0.1025 0.099\n",
      "   0.0962 0.0972 0.1003 0.0953 0.0942 0.1049]\n",
      "  [0.1008 0.0952 0.0922 0.0922 0.0915 0.0977 0.1104 0.1018 0.1047 0.1025\n",
      "   0.099  0.0962 0.0972 0.1003 0.0953 0.0942]\n",
      "  [0.0982 0.1008 0.0952 0.0922 0.0922 0.0915 0.0977 0.1104 0.1018 0.1047\n",
      "   0.1025 0.099  0.0962 0.0972 0.1003 0.0953]\n",
      "  [0.0988 0.0982 0.1008 0.0952 0.0922 0.0922 0.0915 0.0977 0.1104 0.1018\n",
      "   0.1047 0.1025 0.099  0.0962 0.0972 0.1003]\n",
      "  [0.1016 0.0988 0.0982 0.1008 0.0952 0.0922 0.0922 0.0915 0.0977 0.1104\n",
      "   0.1018 0.1047 0.1025 0.099  0.0962 0.0972]\n",
      "  [0.1166 0.1016 0.0988 0.0982 0.1008 0.0952 0.0922 0.0922 0.0915 0.0977\n",
      "   0.1104 0.1018 0.1047 0.1025 0.099  0.0962]\n",
      "  [0.1191 0.1166 0.1016 0.0988 0.0982 0.1008 0.0952 0.0922 0.0922 0.0915\n",
      "   0.0977 0.1104 0.1018 0.1047 0.1025 0.099 ]\n",
      "  [0.1222 0.1191 0.1166 0.1016 0.0988 0.0982 0.1008 0.0952 0.0922 0.0922\n",
      "   0.0915 0.0977 0.1104 0.1018 0.1047 0.1025]\n",
      "  [0.1127 0.1222 0.1191 0.1166 0.1016 0.0988 0.0982 0.1008 0.0952 0.0922\n",
      "   0.0922 0.0915 0.0977 0.1104 0.1018 0.1047]\n",
      "  [0.1103 0.1127 0.1222 0.1191 0.1166 0.1016 0.0988 0.0982 0.1008 0.0952\n",
      "   0.0922 0.0922 0.0915 0.0977 0.1104 0.1018]\n",
      "  [0.111  0.1103 0.1127 0.1222 0.1191 0.1166 0.1016 0.0988 0.0982 0.1008\n",
      "   0.0952 0.0922 0.0922 0.0915 0.0977 0.1104]]]\n",
      "[[[0.0977 0.1104 0.1018 0.1047 0.1025 0.099  0.0962 0.0972 0.1003 0.0953\n",
      "   0.0942 0.1049 0.1018 0.0992 0.0934 0.0958]\n",
      "  [0.0915 0.0977 0.1104 0.1018 0.1047 0.1025 0.099  0.0962 0.0972 0.1003\n",
      "   0.0953 0.0942 0.1049 0.1018 0.0992 0.0934]\n",
      "  [0.0922 0.0915 0.0977 0.1104 0.1018 0.1047 0.1025 0.099  0.0962 0.0972\n",
      "   0.1003 0.0953 0.0942 0.1049 0.1018 0.0992]\n",
      "  [0.0922 0.0922 0.0915 0.0977 0.1104 0.1018 0.1047 0.1025 0.099  0.0962\n",
      "   0.0972 0.1003 0.0953 0.0942 0.1049 0.1018]\n",
      "  [0.0952 0.0922 0.0922 0.0915 0.0977 0.1104 0.1018 0.1047 0.1025 0.099\n",
      "   0.0962 0.0972 0.1003 0.0953 0.0942 0.1049]\n",
      "  [0.1008 0.0952 0.0922 0.0922 0.0915 0.0977 0.1104 0.1018 0.1047 0.1025\n",
      "   0.099  0.0962 0.0972 0.1003 0.0953 0.0942]\n",
      "  [0.0982 0.1008 0.0952 0.0922 0.0922 0.0915 0.0977 0.1104 0.1018 0.1047\n",
      "   0.1025 0.099  0.0962 0.0972 0.1003 0.0953]\n",
      "  [0.0988 0.0982 0.1008 0.0952 0.0922 0.0922 0.0915 0.0977 0.1104 0.1018\n",
      "   0.1047 0.1025 0.099  0.0962 0.0972 0.1003]\n",
      "  [0.1016 0.0988 0.0982 0.1008 0.0952 0.0922 0.0922 0.0915 0.0977 0.1104\n",
      "   0.1018 0.1047 0.1025 0.099  0.0962 0.0972]\n",
      "  [0.1166 0.1016 0.0988 0.0982 0.1008 0.0952 0.0922 0.0922 0.0915 0.0977\n",
      "   0.1104 0.1018 0.1047 0.1025 0.099  0.0962]\n",
      "  [0.1191 0.1166 0.1016 0.0988 0.0982 0.1008 0.0952 0.0922 0.0922 0.0915\n",
      "   0.0977 0.1104 0.1018 0.1047 0.1025 0.099 ]\n",
      "  [0.1222 0.1191 0.1166 0.1016 0.0988 0.0982 0.1008 0.0952 0.0922 0.0922\n",
      "   0.0915 0.0977 0.1104 0.1018 0.1047 0.1025]\n",
      "  [0.1127 0.1222 0.1191 0.1166 0.1016 0.0988 0.0982 0.1008 0.0952 0.0922\n",
      "   0.0922 0.0915 0.0977 0.1104 0.1018 0.1047]\n",
      "  [0.1103 0.1127 0.1222 0.1191 0.1166 0.1016 0.0988 0.0982 0.1008 0.0952\n",
      "   0.0922 0.0922 0.0915 0.0977 0.1104 0.1018]\n",
      "  [0.111  0.1103 0.1127 0.1222 0.1191 0.1166 0.1016 0.0988 0.0982 0.1008\n",
      "   0.0952 0.0922 0.0922 0.0915 0.0977 0.1104]\n",
      "  [0.1147 0.111  0.1103 0.1127 0.1222 0.1191 0.1166 0.1016 0.0988 0.0982\n",
      "   0.1008 0.0952 0.0922 0.0922 0.0915 0.0977]]]\n",
      "[[[0.0915 0.0977 0.1104 0.1018 0.1047 0.1025 0.099  0.0962 0.0972 0.1003\n",
      "   0.0953 0.0942 0.1049 0.1018 0.0992 0.0934]\n",
      "  [0.0922 0.0915 0.0977 0.1104 0.1018 0.1047 0.1025 0.099  0.0962 0.0972\n",
      "   0.1003 0.0953 0.0942 0.1049 0.1018 0.0992]\n",
      "  [0.0922 0.0922 0.0915 0.0977 0.1104 0.1018 0.1047 0.1025 0.099  0.0962\n",
      "   0.0972 0.1003 0.0953 0.0942 0.1049 0.1018]\n",
      "  [0.0952 0.0922 0.0922 0.0915 0.0977 0.1104 0.1018 0.1047 0.1025 0.099\n",
      "   0.0962 0.0972 0.1003 0.0953 0.0942 0.1049]\n",
      "  [0.1008 0.0952 0.0922 0.0922 0.0915 0.0977 0.1104 0.1018 0.1047 0.1025\n",
      "   0.099  0.0962 0.0972 0.1003 0.0953 0.0942]\n",
      "  [0.0982 0.1008 0.0952 0.0922 0.0922 0.0915 0.0977 0.1104 0.1018 0.1047\n",
      "   0.1025 0.099  0.0962 0.0972 0.1003 0.0953]\n",
      "  [0.0988 0.0982 0.1008 0.0952 0.0922 0.0922 0.0915 0.0977 0.1104 0.1018\n",
      "   0.1047 0.1025 0.099  0.0962 0.0972 0.1003]\n",
      "  [0.1016 0.0988 0.0982 0.1008 0.0952 0.0922 0.0922 0.0915 0.0977 0.1104\n",
      "   0.1018 0.1047 0.1025 0.099  0.0962 0.0972]\n",
      "  [0.1166 0.1016 0.0988 0.0982 0.1008 0.0952 0.0922 0.0922 0.0915 0.0977\n",
      "   0.1104 0.1018 0.1047 0.1025 0.099  0.0962]\n",
      "  [0.1191 0.1166 0.1016 0.0988 0.0982 0.1008 0.0952 0.0922 0.0922 0.0915\n",
      "   0.0977 0.1104 0.1018 0.1047 0.1025 0.099 ]\n",
      "  [0.1222 0.1191 0.1166 0.1016 0.0988 0.0982 0.1008 0.0952 0.0922 0.0922\n",
      "   0.0915 0.0977 0.1104 0.1018 0.1047 0.1025]\n",
      "  [0.1127 0.1222 0.1191 0.1166 0.1016 0.0988 0.0982 0.1008 0.0952 0.0922\n",
      "   0.0922 0.0915 0.0977 0.1104 0.1018 0.1047]\n",
      "  [0.1103 0.1127 0.1222 0.1191 0.1166 0.1016 0.0988 0.0982 0.1008 0.0952\n",
      "   0.0922 0.0922 0.0915 0.0977 0.1104 0.1018]\n",
      "  [0.111  0.1103 0.1127 0.1222 0.1191 0.1166 0.1016 0.0988 0.0982 0.1008\n",
      "   0.0952 0.0922 0.0922 0.0915 0.0977 0.1104]\n",
      "  [0.1147 0.111  0.1103 0.1127 0.1222 0.1191 0.1166 0.1016 0.0988 0.0982\n",
      "   0.1008 0.0952 0.0922 0.0922 0.0915 0.0977]\n",
      "  [0.1158 0.1147 0.111  0.1103 0.1127 0.1222 0.1191 0.1166 0.1016 0.0988\n",
      "   0.0982 0.1008 0.0952 0.0922 0.0922 0.0915]]]\n",
      "[0.16307333 0.16307333 0.16307333 0.16307333 0.16307333 0.16307333\n",
      " 0.16307333 0.16307333 0.16307333 0.16307333 0.16307333 0.16307333\n",
      " 0.16307333 0.16307333 0.16307333 0.16307333 0.16307333 0.16307333\n",
      " 0.16307333 0.16307333 0.16307333 0.16307333 0.16307333 0.16307333\n",
      " 0.16307333 0.16307333 0.16307333 0.16307333 0.16307333 0.16307333\n",
      " 0.16307333 0.16307333 0.16307333 0.16307333 0.16307333 0.16307333\n",
      " 0.16307333 0.16307333 0.16307333 0.16307333 0.16307333 0.16307333\n",
      " 0.16307333 0.16307333 0.16307333 0.16307333 0.16307333 0.16307333\n",
      " 0.16307333 0.16307333 0.16307333 0.16307333 0.16307333 0.16307333\n",
      " 0.16307333 0.16307333 0.16307333 0.16307333 0.16307333 0.16307333\n",
      " 0.16307333 0.16307333 0.16307333 0.16307333 0.16307333 0.16307333\n",
      " 0.16307333 0.16307333 0.16307333 0.16307333 0.16307333 0.16307333\n",
      " 0.16307333 0.16307333 0.16307333 0.16307333 0.16307333 0.16307333\n",
      " 0.16307333 0.16307333 0.16307333 0.16307333 0.16307333 0.16307333\n",
      " 0.16307333 0.16307333 0.16307333 0.16307333 0.16307333 0.16307333\n",
      " 0.16307333 0.16307333 0.16307333 0.16307333 0.16307333 0.16307333\n",
      " 0.16307333 0.16307333 0.16307333 0.16307333]\n",
      "487\n"
     ]
    }
   ],
   "source": [
    "import torch\n",
    "import numpy as np\n",
    "# construct input to model\n",
    "test_y_preds = []\n",
    "for i in range(0, test_y.size-16):\n",
    "    model_in = np.reshape(test_x[i:i+16], (1, 16, input_size))\n",
    "    if i <= 2:\n",
    "        print(model_in)\n",
    "    test_y_preds.append(predictor.predict(model_in).squeeze())\n",
    "\n",
    "preds = np.reshape(np.array(test_y_preds), (1, -1))\n",
    "    \n",
    "print(preds[0][:100])\n",
    "print(len(preds[0]))"
   ]
  },
  {
   "cell_type": "code",
   "execution_count": 12,
   "id": "db7e7b67",
   "metadata": {},
   "outputs": [],
   "source": [
    "# transform back:\n",
    "y_orig = 100 * test_lstm[0][:len(preds[0])]\n",
    "y_pred = pd.Series(100 * preds[0])"
   ]
  },
  {
   "cell_type": "code",
   "execution_count": 13,
   "id": "730dac84",
   "metadata": {},
   "outputs": [
    {
     "name": "stdout",
     "output_type": "stream",
     "text": [
      "4.121525740343911\n"
     ]
    }
   ],
   "source": [
    "rmse = mean_squared_error(y_orig, y_pred, squared=False)\n",
    "print(rmse)"
   ]
  },
  {
   "cell_type": "code",
   "execution_count": 14,
   "id": "2b8e374a",
   "metadata": {},
   "outputs": [
    {
     "data": {
      "text/plain": [
       "Text(0.5, 1.0, 'LSTM - Predicted vs Actual VIX Prices During Test Period')"
      ]
     },
     "execution_count": 14,
     "metadata": {},
     "output_type": "execute_result"
    },
    {
     "data": {
      "image/png": "[encoded data removed]",
      "text/plain": [
       "<Figure size 432x288 with 1 Axes>"
      ]
     },
     "metadata": {
      "needs_background": "light"
     },
     "output_type": "display_data"
    }
   ],
   "source": [
    "y_orig.plot(label=\"actual\")\n",
    "y_pred.plot(label=\"predictions\")\n",
    "plt.legend(loc=\"upper right\")\n",
    "plt.ylabel('VIX PRICE')\n",
    "plt.title('LSTM - Predicted vs Actual VIX Prices During Test Period')"
   ]
  },
  {
   "cell_type": "code",
   "execution_count": 15,
   "id": "a0eee4ba",
   "metadata": {},
   "outputs": [],
   "source": [
    "predictor.delete_endpoint()"
   ]
  }
 ],
 "metadata": {
  "kernelspec": {
   "display_name": "conda_python3",
   "language": "python",
   "name": "conda_python3"
  },
  "language_info": {
   "codemirror_mode": {
    "name": "ipython",
    "version": 3
   },
   "file_extension": ".py",
   "mimetype": "text/x-python",
   "name": "python",
   "nbconvert_exporter": "python",
   "pygments_lexer": "ipython3",
   "version": "3.6.13"
  }
 },
 "nbformat": 4,
 "nbformat_minor": 5
}
